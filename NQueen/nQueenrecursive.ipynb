{
 "cells": [
  {
   "cell_type": "code",
   "execution_count": 17,
   "source": [
    "import timeit\r\n",
    "N = 4\r\n",
    "numSol = 0\r\n",
    "b = N*[-1]\r\n",
    "colFree = N*[1]\r\n",
    "upFree = (2*N - 1)*[1]\r\n",
    "downFree = (2*N - 1)*[1]\r\n",
    "start = timeit.default_timer()\r\n",
    "\r\n",
    "def printBoard(b):\r\n",
    "    print(b)\r\n",
    "\r\n",
    "def putQueen(r, b, colFree, upFree, downFree):\r\n",
    "    global N\r\n",
    "    global numSol\r\n",
    "    for c in range(N):\r\n",
    "        if colFree[c] and upFree[r+c] and downFree[r-c+N-1]:\r\n",
    "            b[r] = c\r\n",
    "            colFree[c] = upFree[r+c] = downFree[r-c+N-1] = 0\r\n",
    "            if r == N-1:\r\n",
    "                printBoard(b)\r\n",
    "                numSol += 1\r\n",
    "            else:\r\n",
    "                putQueen(r+1, b, colFree, upFree, downFree)\r\n",
    "            colFree[c] = upFree[r+c] = downFree[r-c+N-1] = 1\r\n",
    "                                                            \r\n",
    "putQueen(0, b, colFree, upFree, downFree)\r\n",
    "print()\r\n",
    "print('Input: ',N) \r\n",
    "print('number of solutions = ', numSol)\r\n",
    "stop = timeit.default_timer()\r\n",
    "print('Time: ', stop - start)  "
   ],
   "outputs": [
    {
     "output_type": "stream",
     "name": "stdout",
     "text": [
      "[1, 3, 0, 2]\n",
      "[2, 0, 3, 1]\n",
      "\n",
      "Input:  4\n",
      "number of solutions =  2\n",
      "Time:  0.0003184000006513088\n"
     ]
    }
   ],
   "metadata": {}
  }
 ],
 "metadata": {
  "orig_nbformat": 4,
  "language_info": {
   "name": "python",
   "version": "3.9.7",
   "mimetype": "text/x-python",
   "codemirror_mode": {
    "name": "ipython",
    "version": 3
   },
   "pygments_lexer": "ipython3",
   "nbconvert_exporter": "python",
   "file_extension": ".py"
  },
  "kernelspec": {
   "name": "python3",
   "display_name": "Python 3.9.7 64-bit"
  },
  "interpreter": {
   "hash": "dcacb0086e9a4f4eabd41c33bf4faac5ea0a3337ed3f5eff0680afa930572c04"
  }
 },
 "nbformat": 4,
 "nbformat_minor": 2
}