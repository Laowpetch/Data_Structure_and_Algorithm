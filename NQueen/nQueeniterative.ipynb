{
 "cells": [
  {
   "cell_type": "code",
   "execution_count": 12,
   "source": [
    "from itertools import permutations\r\n",
    "import timeit\r\n",
    "N = 4\r\n",
    "start = timeit.default_timer()\r\n",
    "\r\n",
    "def print_table():\r\n",
    "    for row in range(N):\r\n",
    "        print(table[row])\r\n",
    "\r\n",
    "def put_queen(x,y):\r\n",
    "    if table[y][x] == 0:\r\n",
    "        for m in range(N):\r\n",
    "            table[y][m] = 1\r\n",
    "            table[m][x] = 1\r\n",
    "            table[y][x] = 2\r\n",
    "            if y+m <= N-1 and x+m <= N-1:\r\n",
    "                table[y+m][x+m] = 1\r\n",
    "            if y-m >= 0 and x+m <= N-1:\r\n",
    "                table[y-m][x+m] = 1\r\n",
    "            if y+m <= N-1 and x-m >= 0:\r\n",
    "                table[y+m][x-m] = 1\r\n",
    "            if y-m >= 0 and x-m >= 0:\r\n",
    "                table[y-m][x-m] = 1\r\n",
    "        return True\r\n",
    "    else:\r\n",
    "        return False\r\n",
    "\r\n",
    "table = [[0]*N for _ in range(N)]    \r\n",
    "perms = permutations([i for i in range(N)])\r\n",
    "num_comb = 0\r\n",
    "k = 0\r\n",
    "for perm in perms:\r\n",
    "    for i in range(N):\r\n",
    "        if put_queen(perm[i], i) == True:\r\n",
    "            k+=1\r\n",
    "        else:\r\n",
    "            k=0\r\n",
    "            break\r\n",
    "    if k == N:\r\n",
    "        k=0\r\n",
    "        print_table()\r\n",
    "        num_comb += 1\r\n",
    "        print(f\"solution{num_comb}\")\r\n",
    "        print(\" \")\r\n",
    "    table = [[0] * N for _ in range(N)]\r\n",
    "stop = timeit.default_timer()\r\n",
    "print('Input: ',N)  \r\n",
    "print('Number of solution: ', num_comb)\r\n",
    "print('Time: ', stop - start)"
   ],
   "outputs": [
    {
     "output_type": "stream",
     "name": "stdout",
     "text": [
      "[1, 2, 1, 1]\n",
      "[1, 1, 1, 2]\n",
      "[2, 1, 1, 1]\n",
      "[1, 1, 2, 1]\n",
      "solution1\n",
      " \n",
      "[1, 1, 2, 1]\n",
      "[2, 1, 1, 1]\n",
      "[1, 1, 1, 2]\n",
      "[1, 2, 1, 1]\n",
      "solution2\n",
      " \n",
      "Input:  4\n",
      "Number of solution:  2\n",
      "Time:  0.0007236999999804539\n"
     ]
    }
   ],
   "metadata": {}
  }
 ],
 "metadata": {
  "orig_nbformat": 4,
  "language_info": {
   "name": "python",
   "version": "3.9.7",
   "mimetype": "text/x-python",
   "codemirror_mode": {
    "name": "ipython",
    "version": 3
   },
   "pygments_lexer": "ipython3",
   "nbconvert_exporter": "python",
   "file_extension": ".py"
  },
  "kernelspec": {
   "name": "python3",
   "display_name": "Python 3.9.7 64-bit"
  },
  "interpreter": {
   "hash": "dcacb0086e9a4f4eabd41c33bf4faac5ea0a3337ed3f5eff0680afa930572c04"
  }
 },
 "nbformat": 4,
 "nbformat_minor": 2
}